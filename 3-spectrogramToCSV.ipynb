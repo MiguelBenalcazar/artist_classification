{
 "cells": [
  {
   "cell_type": "code",
   "execution_count": 1,
   "metadata": {},
   "outputs": [],
   "source": []
  },
  {
   "cell_type": "code",
   "execution_count": 1,
   "metadata": {},
   "outputs": [],
   "source": [
    "\n",
    "import os\n",
    "\n",
    "def spectrogram_to_csv_by_file(path_to_read:str = \"\", path_to_save:str = \"\") -> None:\n",
    "    import os\n",
    "    from tqdm import tqdm\n",
    "    import gzip\n",
    "    import pickle\n",
    "    import pandas as pd\n",
    "    try:\n",
    "        if len(path_to_read)!=0 or len(path_to_save)!=0:\n",
    "            listFiles = os.listdir(path_to_read)\n",
    "            pbar = tqdm(listFiles)\n",
    "            data = []\n",
    "            for i in pbar:\n",
    "                file_path = os.path.join(path_to_read, i)\n",
    "                file_path = file_path.replace('\\\\', '/')\n",
    "                with gzip.open(file_path, 'rb') as f:\n",
    "                    data_file = pickle.load(f)\n",
    "    \n",
    "                data.append({\n",
    "                    'label': data_file['artist_name'],\n",
    "                    'path': file_path\n",
    "                    })\n",
    "            print(\"Converting data to csv\")\n",
    "            dataFrame = pd.DataFrame(data)\n",
    "            dataFrame.to_csv(path_to_save)\n",
    "            print(f\"Done file {path_to_save} save\")\n",
    "    except:\n",
    "        raise(\"Error please enter data path_to_read and path_to_save\")\n"
   ]
  },
  {
   "cell_type": "code",
   "execution_count": 2,
   "metadata": {},
   "outputs": [],
   "source": [
    "datasets = ['train', 'test', 'validation']\n",
    "dataPath = \"./dataset\""
   ]
  },
  {
   "cell_type": "code",
   "execution_count": 3,
   "metadata": {},
   "outputs": [
    {
     "name": "stdout",
     "output_type": "stream",
     "text": [
      "Working on train dataset.\n"
     ]
    },
    {
     "name": "stderr",
     "output_type": "stream",
     "text": [
      "100%|██████████| 96226/96226 [00:28<00:00, 3391.92it/s]\n"
     ]
    },
    {
     "name": "stdout",
     "output_type": "stream",
     "text": [
      "Converting data to csv\n",
      "Done file ./dataset/train.csv save\n",
      "train finished.\n",
      "Working on test dataset.\n"
     ]
    },
    {
     "name": "stderr",
     "output_type": "stream",
     "text": [
      "100%|██████████| 18978/18978 [00:05<00:00, 3782.55it/s]\n"
     ]
    },
    {
     "name": "stdout",
     "output_type": "stream",
     "text": [
      "Converting data to csv\n",
      "Done file ./dataset/test.csv save\n",
      "test finished.\n",
      "Working on validation dataset.\n"
     ]
    },
    {
     "name": "stderr",
     "output_type": "stream",
     "text": [
      "100%|██████████| 14853/14853 [00:04<00:00, 3617.45it/s]"
     ]
    },
    {
     "name": "stdout",
     "output_type": "stream",
     "text": [
      "Converting data to csv\n",
      "Done file ./dataset/validation.csv save\n",
      "validation finished.\n"
     ]
    },
    {
     "name": "stderr",
     "output_type": "stream",
     "text": [
      "\n"
     ]
    }
   ],
   "source": [
    "for i in datasets:\n",
    "    print(f\"Working on {i} dataset.\")\n",
    "    path_to_read = os.path.join(dataPath, i)\n",
    "    path_to_read = path_to_read.replace('\\\\', '/')\n",
    "\n",
    "    path_to_save = os.path.join(dataPath, f\"{i}.csv\")\n",
    "    path_to_save = path_to_save.replace('\\\\', '/')\n",
    "    spectrogram_to_csv_by_file(path_to_read = path_to_read, path_to_save = path_to_save)\n",
    "    print(f\"{i} finished.\")\n",
    "    "
   ]
  },
  {
   "cell_type": "code",
   "execution_count": null,
   "metadata": {},
   "outputs": [],
   "source": []
  }
 ],
 "metadata": {
  "kernelspec": {
   "display_name": "base",
   "language": "python",
   "name": "python3"
  },
  "language_info": {
   "codemirror_mode": {
    "name": "ipython",
    "version": 3
   },
   "file_extension": ".py",
   "mimetype": "text/x-python",
   "name": "python",
   "nbconvert_exporter": "python",
   "pygments_lexer": "ipython3",
   "version": "3.11.7"
  }
 },
 "nbformat": 4,
 "nbformat_minor": 2
}
